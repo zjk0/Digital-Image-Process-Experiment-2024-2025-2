{
 "cells": [
  {
   "cell_type": "code",
   "execution_count": 13,
   "metadata": {},
   "outputs": [
    {
     "name": "stdout",
     "output_type": "stream",
     "text": [
      "[0 5]\n",
      "[ 0  5 10]\n",
      "[[1. 0. 0. 0. 0. 2. 0. 0. 0. 0. 3. 0. 0. 0. 0.]\n",
      " [0. 0. 0. 0. 0. 0. 0. 0. 0. 0. 0. 0. 0. 0. 0.]\n",
      " [0. 0. 0. 0. 0. 0. 0. 0. 0. 0. 0. 0. 0. 0. 0.]\n",
      " [0. 0. 0. 0. 0. 0. 0. 0. 0. 0. 0. 0. 0. 0. 0.]\n",
      " [0. 0. 0. 0. 0. 0. 0. 0. 0. 0. 0. 0. 0. 0. 0.]\n",
      " [4. 0. 0. 0. 0. 5. 0. 0. 0. 0. 6. 0. 0. 0. 0.]\n",
      " [0. 0. 0. 0. 0. 0. 0. 0. 0. 0. 0. 0. 0. 0. 0.]\n",
      " [0. 0. 0. 0. 0. 0. 0. 0. 0. 0. 0. 0. 0. 0. 0.]\n",
      " [0. 0. 0. 0. 0. 0. 0. 0. 0. 0. 0. 0. 0. 0. 0.]\n",
      " [0. 0. 0. 0. 0. 0. 0. 0. 0. 0. 0. 0. 0. 0. 0.]]\n"
     ]
    }
   ],
   "source": [
    "import numpy as np\n",
    "\n",
    "array = np.array([[1, 2, 3],\n",
    "                  [4, 5, 6]])\n",
    "\n",
    "rows = 2\n",
    "columns = 3\n",
    "\n",
    "row_index = 5 * np.arange(rows)\n",
    "column_index = 5 * np.arange(columns)\n",
    "print(row_index)\n",
    "print(column_index)\n",
    "\n",
    "zoom_in_image_array = np.zeros((rows * 5, columns * 5))\n",
    "zoom_in_image_array[row_index[:, np.newaxis], column_index] = array\n",
    "print(zoom_in_image_array)\n"
   ]
  },
  {
   "cell_type": "code",
   "execution_count": 3,
   "metadata": {},
   "outputs": [
    {
     "name": "stdout",
     "output_type": "stream",
     "text": [
      "7.666666666666666\n",
      "7.666666666666666\n"
     ]
    }
   ],
   "source": [
    "import tkinter as tk\n",
    "from tkinter import ttk\n",
    "from tkinter import filedialog as fd\n",
    "from PIL import Image\n",
    "from PIL import ImageTk\n",
    "import numpy as np\n",
    "from matplotlib import pyplot as plt\n",
    "from matplotlib.backends.backend_tkagg import FigureCanvasTkAgg, NavigationToolbar2Tk\n",
    "from matplotlib.figure import Figure\n",
    "import struct\n",
    "\n",
    "def bilinear_interpolation (x1, y1, x2, y2, \n",
    "                            value11, value12, value21, value22, \n",
    "                            x, y):\n",
    "    coef = 1 / ((x2 - x1) * (y2 - y1))\n",
    "    vector1 = np.array([x2 - x, x - x1])\n",
    "    matrix = np.array([[value11, value12], [value21, value22]])\n",
    "    vector2 = np.array([[y2 - y], [y - y1]])\n",
    "    result = coef * (vector1 @ matrix @ vector2)  # 使用@符号进行矩阵运算\n",
    "    return result[0]\n",
    "\n",
    "def bilinear_interpolation_2 (x1, y1, x2, y2, \n",
    "                            value11, value12, value21, value22, \n",
    "                            x, y):\n",
    "    coef = 1 / ((x2 - x1) * (y2 - y1))\n",
    "    result = coef * (value11 * (x2 - x) * (y2 - y) + \n",
    "                     value21 * (x - x1) * (y2 - y) + \n",
    "                     value12 * (x2 - x) * (y - y1) + \n",
    "                     value22 * (x - x1) * (y - y1))\n",
    "    \n",
    "    return result\n",
    "\n",
    "print(bilinear_interpolation(1, 2, 10, 14, 5, 9, 7, 8, 2, 10))\n",
    "print(bilinear_interpolation_2(1, 2, 10, 14, 5, 9, 7, 8, 2, 10))"
   ]
  }
 ],
 "metadata": {
  "kernelspec": {
   "display_name": "Python 3",
   "language": "python",
   "name": "python3"
  },
  "language_info": {
   "codemirror_mode": {
    "name": "ipython",
    "version": 3
   },
   "file_extension": ".py",
   "mimetype": "text/x-python",
   "name": "python",
   "nbconvert_exporter": "python",
   "pygments_lexer": "ipython3",
   "version": "3.12.0"
  }
 },
 "nbformat": 4,
 "nbformat_minor": 2
}
