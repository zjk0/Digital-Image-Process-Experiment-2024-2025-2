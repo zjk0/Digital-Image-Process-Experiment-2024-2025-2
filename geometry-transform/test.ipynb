{
 "cells": [
  {
   "cell_type": "code",
   "execution_count": 3,
   "metadata": {},
   "outputs": [
    {
     "name": "stdout",
     "output_type": "stream",
     "text": [
      "7.666666666666666\n",
      "7.666666666666666\n"
     ]
    }
   ],
   "source": [
    "import tkinter as tk\n",
    "from tkinter import ttk\n",
    "from tkinter import filedialog as fd\n",
    "from PIL import Image\n",
    "from PIL import ImageTk\n",
    "import numpy as np\n",
    "from matplotlib import pyplot as plt\n",
    "from matplotlib.backends.backend_tkagg import FigureCanvasTkAgg, NavigationToolbar2Tk\n",
    "from matplotlib.figure import Figure\n",
    "import struct\n",
    "\n",
    "def bilinear_interpolation (x1, y1, x2, y2, \n",
    "                            value11, value12, value21, value22, \n",
    "                            x, y):\n",
    "    coef = 1 / ((x2 - x1) * (y2 - y1))\n",
    "    vector1 = np.array([x2 - x, x - x1])\n",
    "    matrix = np.array([[value11, value12], [value21, value22]])\n",
    "    vector2 = np.array([[y2 - y], [y - y1]])\n",
    "    result = coef * (vector1 @ matrix @ vector2)  # 使用@符号进行矩阵运算\n",
    "    return result[0]\n",
    "\n",
    "def bilinear_interpolation_2 (x1, y1, x2, y2, \n",
    "                            value11, value12, value21, value22, \n",
    "                            x, y):\n",
    "    coef = 1 / ((x2 - x1) * (y2 - y1))\n",
    "    result = coef * (value11 * (x2 - x) * (y2 - y) + \n",
    "                     value21 * (x - x1) * (y2 - y) + \n",
    "                     value12 * (x2 - x) * (y - y1) + \n",
    "                     value22 * (x - x1) * (y - y1))\n",
    "    \n",
    "    return result\n",
    "\n",
    "print(bilinear_interpolation(1, 2, 10, 14, 5, 9, 7, 8, 2, 10))\n",
    "print(bilinear_interpolation_2(1, 2, 10, 14, 5, 9, 7, 8, 2, 10))"
   ]
  }
 ],
 "metadata": {
  "kernelspec": {
   "display_name": "Python 3",
   "language": "python",
   "name": "python3"
  },
  "language_info": {
   "codemirror_mode": {
    "name": "ipython",
    "version": 3
   },
   "file_extension": ".py",
   "mimetype": "text/x-python",
   "name": "python",
   "nbconvert_exporter": "python",
   "pygments_lexer": "ipython3",
   "version": "3.12.0"
  }
 },
 "nbformat": 4,
 "nbformat_minor": 2
}
